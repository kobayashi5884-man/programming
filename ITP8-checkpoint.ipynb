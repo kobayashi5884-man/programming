{
 "cells": [
  {
   "cell_type": "code",
   "execution_count": 43,
   "metadata": {},
   "outputs": [
    {
     "name": "stdout",
     "output_type": "stream",
     "text": [
      "fAIR, LATER, OCCASIONALLY CLOUDY.\n",
      "Fair, later, occasionally cloudy.\n"
     ]
    }
   ],
   "source": [
    "#8-A\n",
    "word = input()\n",
    "print(word.swapcase())"
   ]
  },
  {
   "cell_type": "code",
   "execution_count": 1,
   "metadata": {},
   "outputs": [
    {
     "name": "stdout",
     "output_type": "stream",
     "text": [
      "100\n",
      "1\n",
      "0\n"
     ]
    }
   ],
   "source": [
    "#8-B\n",
    "\n",
    "while True:\n",
    "    x = int(input())\n",
    "    n = x\n",
    "    a = 0\n",
    "    if x==0:\n",
    "        break\n",
    "    else:\n",
    "        while True:\n",
    "            if n >= 10:\n",
    "                a = a + n%10\n",
    "                n = n//10\n",
    "            elif n < 10:\n",
    "                a = a + n\n",
    "                print(str(a))\n",
    "                break\n",
    "    "
   ]
  },
  {
   "cell_type": "code",
   "execution_count": 44,
   "metadata": {},
   "outputs": [
    {
     "name": "stdout",
     "output_type": "stream",
     "text": [
      "This is a pen.\n",
      "a : 1\n",
      "b : 0\n",
      "c : 0\n",
      "d : 0\n",
      "e : 1\n",
      "f : 0\n",
      "g : 0\n",
      "h : 1\n",
      "i : 2\n",
      "j : 0\n",
      "k : 0\n",
      "l : 0\n",
      "m : 0\n",
      "n : 1\n",
      "o : 0\n",
      "p : 1\n",
      "q : 0\n",
      "r : 0\n",
      "s : 2\n",
      "t : 1\n",
      "u : 0\n",
      "v : 0\n",
      "w : 0\n",
      "x : 0\n",
      "y : 0\n",
      "z : 0\n"
     ]
    }
   ],
   "source": [
    "#8-C\n",
    "\n",
    "sent = input().lower()\n",
    "word = \"abcdefghijklmnopqrstuvwxyz\"\n",
    "count = [0 for i in range(26)]\n",
    "\n",
    "n = len(sent)\n",
    "\n",
    "for i in range(n):\n",
    "    for j in range(26):\n",
    "        if sent[i] == word[j]:\n",
    "            count[j] = count[j] + 1\n",
    "            \n",
    "for i in range(26):\n",
    "    print(str(word[i]) + \" : \" + str(count[i]))"
   ]
  },
  {
   "cell_type": "code",
   "execution_count": 43,
   "metadata": {},
   "outputs": [
    {
     "name": "stdout",
     "output_type": "stream",
     "text": [
      "vanceknowledgetoad\n",
      "advance\n",
      "Yes\n"
     ]
    }
   ],
   "source": [
    "#8-D\n",
    "\n",
    "s = list(input())\n",
    "t = list(input())\n",
    "count2 = 0\n",
    "\n",
    "\n",
    "while True:    \n",
    "    count1 = 0\n",
    "    for i in range(len(t)):\n",
    "        if s[i]==t[i]:\n",
    "            count1 = count1+1\n",
    "            \n",
    "    if count1 == len(t):\n",
    "        print(\"Yes\")\n",
    "        break\n",
    "   \n",
    "    else:\n",
    "        s.append(s.pop(0))\n",
    "        count2 = count2+1\n",
    "        if count2 == len(s):\n",
    "            print(\"No\")\n",
    "            break"
   ]
  }
 ],
 "metadata": {
  "kernelspec": {
   "display_name": "Python 3",
   "language": "python",
   "name": "python3"
  },
  "language_info": {
   "codemirror_mode": {
    "name": "ipython",
    "version": 3
   },
   "file_extension": ".py",
   "mimetype": "text/x-python",
   "name": "python",
   "nbconvert_exporter": "python",
   "pygments_lexer": "ipython3",
   "version": "3.7.6"
  }
 },
 "nbformat": 4,
 "nbformat_minor": 4
}
