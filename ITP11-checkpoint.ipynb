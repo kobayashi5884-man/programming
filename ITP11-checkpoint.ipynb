{
 "cells": [
  {
   "cell_type": "code",
   "execution_count": 4,
   "metadata": {},
   "outputs": [],
   "source": [
    "#11\n",
    "\n",
    "class Dice:\n",
    "    def __init__(self):\n",
    "        self.dice_num = []\n",
    "    \n",
    "    def setting(self, s):\n",
    "        self.dice_num = s\n",
    "        \n",
    "    def roll(self, r):\n",
    "        for i in r:\n",
    "            dr = self.dice_num\n",
    "            if i == \"E\":\n",
    "                s = [dr[3],dr[1],dr[0],dr[5],dr[4],dr[2]]\n",
    "                self.setting(s)\n",
    "            elif i == \"N\":\n",
    "                s = [dr[1],dr[5],dr[2],dr[3],dr[0],dr[4]]\n",
    "                self.setting(s)\n",
    "            elif i == \"S\":\n",
    "                s = [dr[4],dr[0],dr[2],dr[3],dr[5],dr[1]]\n",
    "                self.setting(s)\n",
    "            elif i == \"W\":\n",
    "                s = [dr[2],dr[1],dr[5],dr[0],dr[4],dr[3]]\n",
    "                self.setting(s)\n",
    "                \n",
    "    def top(self):\n",
    "        print(self.dice_num[0])\n",
    "        \n",
    "    def right(self, top, front):\n",
    "        \n",
    "        while True:\n",
    "            d = self.dice_num\n",
    "            if top == d[0]:\n",
    "                if d.index(front) ==1 :\n",
    "                    return self.dice_num[2]\n",
    "                elif d.index(front) ==2 :\n",
    "                    return self.dice_num[4]\n",
    "                elif d.index(front) ==3 :\n",
    "                    return self.dice_num[1]\n",
    "                else:\n",
    "                    return self.dice_num[3]\n",
    "                break\n",
    "\n",
    "            elif top == d[1]:\n",
    "                self.roll([\"N\"])          \n",
    "                    \n",
    "            elif top == d[2]:\n",
    "                self.roll([\"W\"])\n",
    "                \n",
    "            elif top == d[3]:\n",
    "                self.roll([\"E\"])\n",
    "                \n",
    "            elif top == d[4]:\n",
    "                self.roll([\"S\"])\n",
    "                \n",
    "            else:\n",
    "                self.roll([\"E\"])\n",
    "                \n",
    "                \n",
    "    def same(self, dice):\n",
    "        a = 0\n",
    "        if self.dice_num[0] in dice.dice_num:\n",
    "            for i in range(1,5):\n",
    "                if self.dice_num[i] in dice.dice_num and dice.right(self.dice_num[0],self.dice_num[i]) == self.right(self.dice_num[0],self.dice_num[i]):\n",
    "                    a = a+1\n",
    "        else:\n",
    "            return \"No\"\n",
    "\n",
    "        if a == 4 and self.dice_num[5] == dice.dice_num[5]:\n",
    "            return \"Yes\"\n",
    "        else:\n",
    "            return \"No\""
   ]
  },
  {
   "cell_type": "code",
   "execution_count": 59,
   "metadata": {},
   "outputs": [
    {
     "name": "stdout",
     "output_type": "stream",
     "text": [
      "\n",
      "\n"
     ]
    },
    {
     "ename": "IndexError",
     "evalue": "list index out of range",
     "output_type": "error",
     "traceback": [
      "\u001b[1;31m---------------------------------------------------------------------------\u001b[0m",
      "\u001b[1;31mIndexError\u001b[0m                                Traceback (most recent call last)",
      "\u001b[1;32m<ipython-input-59-93f969b41de8>\u001b[0m in \u001b[0;36m<module>\u001b[1;34m\u001b[0m\n\u001b[0;32m      7\u001b[0m \u001b[0mdice\u001b[0m\u001b[1;33m.\u001b[0m\u001b[0mroll\u001b[0m\u001b[1;33m(\u001b[0m\u001b[0mRoll\u001b[0m\u001b[1;33m)\u001b[0m\u001b[1;33m\u001b[0m\u001b[1;33m\u001b[0m\u001b[0m\n\u001b[0;32m      8\u001b[0m \u001b[1;33m\u001b[0m\u001b[0m\n\u001b[1;32m----> 9\u001b[1;33m \u001b[0mdice\u001b[0m\u001b[1;33m.\u001b[0m\u001b[0mtop\u001b[0m\u001b[1;33m(\u001b[0m\u001b[1;33m)\u001b[0m\u001b[1;33m\u001b[0m\u001b[1;33m\u001b[0m\u001b[0m\n\u001b[0m",
      "\u001b[1;32m<ipython-input-43-0806f47f514c>\u001b[0m in \u001b[0;36mtop\u001b[1;34m(self)\u001b[0m\n\u001b[0;32m     25\u001b[0m \u001b[1;33m\u001b[0m\u001b[0m\n\u001b[0;32m     26\u001b[0m     \u001b[1;32mdef\u001b[0m \u001b[0mtop\u001b[0m\u001b[1;33m(\u001b[0m\u001b[0mself\u001b[0m\u001b[1;33m)\u001b[0m\u001b[1;33m:\u001b[0m\u001b[1;33m\u001b[0m\u001b[1;33m\u001b[0m\u001b[0m\n\u001b[1;32m---> 27\u001b[1;33m         \u001b[0mprint\u001b[0m\u001b[1;33m(\u001b[0m\u001b[0mself\u001b[0m\u001b[1;33m.\u001b[0m\u001b[0mdice_num\u001b[0m\u001b[1;33m[\u001b[0m\u001b[1;36m0\u001b[0m\u001b[1;33m]\u001b[0m\u001b[1;33m)\u001b[0m\u001b[1;33m\u001b[0m\u001b[1;33m\u001b[0m\u001b[0m\n\u001b[0m\u001b[0;32m     28\u001b[0m \u001b[1;33m\u001b[0m\u001b[0m\n\u001b[0;32m     29\u001b[0m     \u001b[1;32mdef\u001b[0m \u001b[0mright\u001b[0m\u001b[1;33m(\u001b[0m\u001b[0mself\u001b[0m\u001b[1;33m,\u001b[0m \u001b[0mtop\u001b[0m\u001b[1;33m,\u001b[0m \u001b[0mfront\u001b[0m\u001b[1;33m)\u001b[0m\u001b[1;33m:\u001b[0m\u001b[1;33m\u001b[0m\u001b[1;33m\u001b[0m\u001b[0m\n",
      "\u001b[1;31mIndexError\u001b[0m: list index out of range"
     ]
    }
   ],
   "source": [
    "#11-A\n",
    "dice = Dice()\n",
    "num = list(map(int, input().split()))\n",
    "dice.setting(num)\n",
    "\n",
    "Roll = list(input())\n",
    "dice.roll(Roll)\n",
    "\n",
    "dice.top()"
   ]
  },
  {
   "cell_type": "code",
   "execution_count": null,
   "metadata": {},
   "outputs": [],
   "source": [
    "#11-B\n",
    "\n",
    "dice = Dice()\n",
    "num = list(map(int, input().split()))\n",
    "dice.setting(num)\n",
    "\n",
    "n = int(input())\n",
    "\n",
    "\n",
    "for i in range(n):\n",
    "    top, front = map(int,input().split())\n",
    "    print(dice.right(top, front))\n",
    "    "
   ]
  },
  {
   "cell_type": "code",
   "execution_count": 5,
   "metadata": {},
   "outputs": [
    {
     "name": "stdout",
     "output_type": "stream",
     "text": [
      "2 4 5 6 3 1\n",
      "1 2 3 4 5 7\n",
      "No\n"
     ]
    }
   ],
   "source": [
    "#11-C\n",
    "\n",
    "dice1 = Dice()\n",
    "num1 = list(map(int, input().split()))\n",
    "dice1.setting(num1)\n",
    "\n",
    "dice2 = Dice()\n",
    "num2 = list(map(int, input().split()))\n",
    "dice2.setting(num2)\n",
    "\n",
    "print(dice1.same(dice2))"
   ]
  },
  {
   "cell_type": "code",
   "execution_count": 6,
   "metadata": {},
   "outputs": [
    {
     "name": "stdout",
     "output_type": "stream",
     "text": [
      "4\n",
      "1 2 3 4 5 6\n",
      "1 2 3 4 5 7\n",
      "6 2 3 4 5 1\n",
      "2 4 5 6 3 1\n",
      "[1, 2, 3, 4, 5, 6]\n",
      "[1, 2, 3, 4, 5, 6]\n",
      "[1, 2, 3, 4, 5, 6]\n",
      "[1, 2, 3, 4, 5, 7]\n",
      "[1, 2, 3, 4, 5, 6]\n",
      "[6, 2, 3, 4, 5, 1]\n",
      "[1, 2, 3, 4, 5, 6]\n",
      "[2, 4, 5, 6, 3, 1]\n",
      "[1, 2, 3, 4, 5, 7]\n",
      "[1, 2, 3, 4, 5, 6]\n",
      "[1, 2, 3, 4, 5, 7]\n",
      "[1, 2, 3, 4, 5, 7]\n",
      "[1, 2, 3, 4, 5, 7]\n",
      "[6, 2, 3, 4, 5, 1]\n",
      "[1, 2, 3, 4, 5, 7]\n",
      "[2, 4, 5, 6, 3, 1]\n",
      "[6, 2, 3, 4, 5, 1]\n",
      "[1, 2, 3, 4, 5, 6]\n",
      "[6, 2, 3, 4, 5, 1]\n",
      "[1, 2, 3, 4, 5, 7]\n",
      "[6, 2, 3, 4, 5, 1]\n",
      "[6, 2, 3, 4, 5, 1]\n",
      "[6, 2, 3, 4, 5, 1]\n",
      "[2, 4, 5, 6, 3, 1]\n",
      "[2, 4, 5, 6, 3, 1]\n",
      "[1, 2, 3, 4, 5, 6]\n",
      "[2, 4, 5, 6, 3, 1]\n",
      "[1, 2, 3, 4, 5, 7]\n",
      "[2, 4, 5, 6, 3, 1]\n",
      "[6, 2, 3, 4, 5, 1]\n",
      "[2, 4, 5, 6, 3, 1]\n",
      "[2, 4, 5, 6, 3, 1]\n",
      "Yes\n"
     ]
    }
   ],
   "source": [
    "#11-D\n",
    "\n",
    "n = int(input())\n",
    "lst1 = []\n",
    "c = 0\n",
    "\n",
    "for i in range(n):\n",
    "    num  = list(map(int, input().split()))\n",
    "    lst1.append(num)\n",
    "\n",
    "for i in range(n):\n",
    "    for j in range(n):\n",
    "        dice1 = Dice()\n",
    "        num1 = lst1[i]\n",
    "        dice1.setting(num1)\n",
    "        \n",
    "        dice2 = Dice()\n",
    "        num2 = lst1[j]\n",
    "        dice2.setting(num2)\n",
    "        \n",
    "        if dice1.same(dice2) == \"Yes\":\n",
    "            c = c + 1\n",
    "        \n",
    "        \n",
    "if c > n:\n",
    "    print(\"No\")\n",
    "\n",
    "else:\n",
    "    print(\"Yes\")\n",
    "    "
   ]
  },
  {
   "cell_type": "code",
   "execution_count": null,
   "metadata": {},
   "outputs": [],
   "source": []
  },
  {
   "cell_type": "code",
   "execution_count": null,
   "metadata": {},
   "outputs": [],
   "source": []
  }
 ],
 "metadata": {
  "kernelspec": {
   "display_name": "Python 3",
   "language": "python",
   "name": "python3"
  },
  "language_info": {
   "codemirror_mode": {
    "name": "ipython",
    "version": 3
   },
   "file_extension": ".py",
   "mimetype": "text/x-python",
   "name": "python",
   "nbconvert_exporter": "python",
   "pygments_lexer": "ipython3",
   "version": "3.7.6"
  }
 },
 "nbformat": 4,
 "nbformat_minor": 4
}
