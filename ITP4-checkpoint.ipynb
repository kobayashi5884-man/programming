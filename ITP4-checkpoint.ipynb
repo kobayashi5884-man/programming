{
 "cells": [
  {
   "cell_type": "code",
   "execution_count": 1,
   "metadata": {},
   "outputs": [
    {
     "name": "stdout",
     "output_type": "stream",
     "text": [
      "3 2\n",
      "1 1 1.50000\n"
     ]
    }
   ],
   "source": [
    "#4-A\n",
    "a,b=map(int,input().split())\n",
    "d=a//b\n",
    "r=a%b\n",
    "f=a/b\n",
    "\n",
    "print(str(d),str(r),f\"{f:.5f}\")"
   ]
  },
  {
   "cell_type": "code",
   "execution_count": 2,
   "metadata": {},
   "outputs": [
    {
     "name": "stdout",
     "output_type": "stream",
     "text": [
      "2\n",
      "12.566371 12.566371\n"
     ]
    }
   ],
   "source": [
    "#4-B\n",
    "r=float(input())\n",
    "pi=3.141592653589\n",
    "a=r*r*pi\n",
    "b=2*r*pi\n",
    "\n",
    "print(f\"{a:5f}\",f\"{b:5f}\")"
   ]
  },
  {
   "cell_type": "code",
   "execution_count": 3,
   "metadata": {},
   "outputs": [
    {
     "name": "stdout",
     "output_type": "stream",
     "text": [
      "1 + 2\n",
      "3\n",
      "1 - 2\n",
      "-1\n",
      "1 * 2\n",
      "2\n",
      "1 / 2\n",
      "0\n",
      "0 ? 0\n"
     ]
    }
   ],
   "source": [
    "#4-C\n",
    "while True:\n",
    "    a,op,b=input().split()\n",
    "    a=int(a)\n",
    "    b=int(b)\n",
    "    if op==\"+\":\n",
    "        x=a+b\n",
    "        print(str(x))\n",
    "    elif op==\"-\":\n",
    "        x=a-b\n",
    "        print(str(x))\n",
    "    elif op==\"/\":\n",
    "        x=a//b\n",
    "        print(str(x))\n",
    "    elif op==\"*\":\n",
    "        x=a*b\n",
    "        print(str(x))\n",
    "    if op==\"?\":\n",
    "        break"
   ]
  },
  {
   "cell_type": "code",
   "execution_count": 4,
   "metadata": {},
   "outputs": [
    {
     "name": "stdout",
     "output_type": "stream",
     "text": [
      "5\n",
      "10 1 5 4 17\n",
      "1 17 37\n"
     ]
    }
   ],
   "source": [
    "#4-D\n",
    "i=input()\n",
    "i=int(i)\n",
    "a=list(map(int,input().split()))\n",
    "mina=min(a)\n",
    "maxa=max(a)\n",
    "suma=sum(a)\n",
    "print(str(mina),str(maxa),str(suma))\n",
    "    "
   ]
  },
  {
   "cell_type": "code",
   "execution_count": null,
   "metadata": {},
   "outputs": [],
   "source": []
  }
 ],
 "metadata": {
  "kernelspec": {
   "display_name": "Python 3",
   "language": "python",
   "name": "python3"
  },
  "language_info": {
   "codemirror_mode": {
    "name": "ipython",
    "version": 3
   },
   "file_extension": ".py",
   "mimetype": "text/x-python",
   "name": "python",
   "nbconvert_exporter": "python",
   "pygments_lexer": "ipython3",
   "version": "3.7.6"
  }
 },
 "nbformat": 4,
 "nbformat_minor": 4
}
