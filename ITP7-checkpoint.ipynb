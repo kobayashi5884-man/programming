{
 "cells": [
  {
   "cell_type": "code",
   "execution_count": 1,
   "metadata": {},
   "outputs": [
    {
     "name": "stdout",
     "output_type": "stream",
     "text": [
      "40 42 -1\n",
      "A\n",
      "20 30 -1\n",
      "C\n",
      "0 2 -1\n",
      "F\n",
      "-1 -1 -1\n"
     ]
    }
   ],
   "source": [
    "#7-A\n",
    "while True:\n",
    "    m,f,r = map(int,input().split())\n",
    "    \n",
    "    if m == -1 and f ==-1 and r ==-1:\n",
    "        break\n",
    "    elif m == -1 or f == -1:\n",
    "        print(\"F\")\n",
    "    elif m+f < 30:\n",
    "        print(\"F\")\n",
    "    elif m+f >= 80:\n",
    "        print(\"A\")\n",
    "    elif m+f < 80 and m+f >=65:\n",
    "        print(\"B\")\n",
    "    elif m+f < 65 and m+f >=50:\n",
    "        print(\"C\")\n",
    "    elif m+f < 50 and m+f >=30:\n",
    "        if r >=50:\n",
    "            print(\"C\")\n",
    "        else :\n",
    "            print(\"D\")\n",
    "            "
   ]
  },
  {
   "cell_type": "code",
   "execution_count": 2,
   "metadata": {},
   "outputs": [
    {
     "name": "stdout",
     "output_type": "stream",
     "text": [
      "5 9\n",
      "2\n",
      "0 0\n"
     ]
    }
   ],
   "source": [
    "#7-B\n",
    "\n",
    "\n",
    "while True:\n",
    "    n,x = map(int,input().split())\n",
    "    num=0\n",
    "    if n==0 and x==0:\n",
    "        break\n",
    "    else:\n",
    "        for i in range(1,n+1):\n",
    "            for j in range(i+1,n+1):\n",
    "                for k in range(j+1,n+1):\n",
    "                    if i+j+k == x:\n",
    "                        num = num+1\n",
    "    print(num)            "
   ]
  },
  {
   "cell_type": "code",
   "execution_count": 3,
   "metadata": {},
   "outputs": [
    {
     "name": "stdout",
     "output_type": "stream",
     "text": [
      "4 5\n",
      "1 1 3 4 5\n",
      "2 2 2 4 5 \n",
      "3 3 0 1 1 \n",
      "2 3 4 4 6\n",
      "1 1 3 4 5 14\n",
      "2 2 2 4 5 15\n",
      "3 3 0 1 1 8\n",
      "2 3 4 4 6 19\n",
      "8 9 9 13 17 56\n"
     ]
    }
   ],
   "source": [
    "#7-C\n",
    "r, c = map(int,input().split())\n",
    "A = [[0 for i in range(c)]for j in range(r+1)]\n",
    "\n",
    "\n",
    "for i in range(r):\n",
    "    A[i]=list(map(int,input().split()))\n",
    "    \n",
    "for i in range(r+1):\n",
    "    sumr = 0\n",
    "    for j in range(c):\n",
    "        sumr = sumr + A[i][j]\n",
    "    A[i].append(sumr)\n",
    "    \n",
    "for i in range(c+1):\n",
    "    sumc = 0\n",
    "    for j in range(r+1):\n",
    "        sumc = sumc + A[j][i]\n",
    "    A[r][i] = sumc    \n",
    "\n",
    "\n",
    "for i, row in enumerate(A):\n",
    "    for j, elem in enumerate(row):\n",
    "        if j > 0:\n",
    "            print(\" \",end=\"\")\n",
    "        print(elem,end=\"\")\n",
    "    print()"
   ]
  },
  {
   "cell_type": "code",
   "execution_count": 4,
   "metadata": {},
   "outputs": [
    {
     "name": "stdout",
     "output_type": "stream",
     "text": [
      "3 2 3\n",
      "1 2\n",
      "0 3\n",
      "4 5\n",
      "1 2 1\n",
      "1 8 5\n",
      "3 18 11\n",
      "3 24 15\n",
      "9 48 29\n"
     ]
    }
   ],
   "source": [
    "#7-D\n",
    "n, m, l = map(int,input().split())\n",
    "A = [[0 for i in range(m)]for j in range(n)]\n",
    "B = [[0 for i in range(l)]for j in range(m)]\n",
    "C = [[0 for i in range(l)]for j in range(n)]\n",
    "\n",
    "for i in range(n):\n",
    "    A[i] = list(map(int,input().split()))\n",
    "    \n",
    "for i in range(m):\n",
    "    B[i] = list(map(int,input().split()))\n",
    "    \n",
    "for i in range(n):\n",
    "    for j in range(l):\n",
    "        cij = 0\n",
    "        for k in range(m):\n",
    "            cij = cij + A[i][k]*B[k][j]\n",
    "        C[i][j] = cij\n",
    "        \n",
    "for i, row in enumerate(C):\n",
    "    for j, elem in enumerate(row):\n",
    "        if j > 0:\n",
    "            print(\" \",end=\"\")\n",
    "        print(elem,end=\"\")\n",
    "    print()"
   ]
  },
  {
   "cell_type": "code",
   "execution_count": null,
   "metadata": {},
   "outputs": [],
   "source": []
  }
 ],
 "metadata": {
  "kernelspec": {
   "display_name": "Python 3",
   "language": "python",
   "name": "python3"
  },
  "language_info": {
   "codemirror_mode": {
    "name": "ipython",
    "version": 3
   },
   "file_extension": ".py",
   "mimetype": "text/x-python",
   "name": "python",
   "nbconvert_exporter": "python",
   "pygments_lexer": "ipython3",
   "version": "3.7.6"
  }
 },
 "nbformat": 4,
 "nbformat_minor": 4
}
