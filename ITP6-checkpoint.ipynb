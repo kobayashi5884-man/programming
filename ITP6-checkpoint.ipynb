{
 "cells": [
  {
   "cell_type": "code",
   "execution_count": 3,
   "metadata": {},
   "outputs": [
    {
     "name": "stdout",
     "output_type": "stream",
     "text": [
      "5\n",
      "1 2 3 4 5\n",
      "5 4 3 2 1 "
     ]
    }
   ],
   "source": [
    "#6-A\n",
    "lst = []\n",
    "n = input()\n",
    "lst = input().split()\n",
    "lst.reverse()\n",
    "for i in lst:\n",
    "    print(i,end=\" \")"
   ]
  },
  {
   "cell_type": "code",
   "execution_count": 5,
   "metadata": {},
   "outputs": [
    {
     "name": "stdout",
     "output_type": "stream",
     "text": [
      "2\n",
      "H 11\n",
      "H 12\n",
      "S 1\n",
      "S 2\n",
      "S 3\n",
      "S 4\n",
      "S 5\n",
      "S 6\n",
      "S 7\n",
      "S 8\n",
      "S 9\n",
      "S 10\n",
      "S 11\n",
      "S 12\n",
      "S 13\n",
      "H 1\n",
      "H 2\n",
      "H 3\n",
      "H 4\n",
      "H 5\n",
      "H 6\n",
      "H 7\n",
      "H 8\n",
      "H 9\n",
      "H 10\n",
      "H 13\n",
      "C 1\n",
      "C 2\n",
      "C 3\n",
      "C 4\n",
      "C 5\n",
      "C 6\n",
      "C 7\n",
      "C 8\n",
      "C 9\n",
      "C 10\n",
      "C 11\n",
      "C 12\n",
      "C 13\n",
      "D 1\n",
      "D 2\n",
      "D 3\n",
      "D 4\n",
      "D 5\n",
      "D 6\n",
      "D 7\n",
      "D 8\n",
      "D 9\n",
      "D 10\n",
      "D 11\n",
      "D 12\n",
      "D 13\n"
     ]
    }
   ],
   "source": [
    "#6-B\n",
    "n =int(input())\n",
    "tbl = [[i+1 for i in range(13)] for j in range(4)]\n",
    "\n",
    "\n",
    "for i in range(n):\n",
    "    mark, num = input().split()\n",
    "    num = int(num)\n",
    "    if mark == \"S\":\n",
    "        tbl[0][num-1] = 0\n",
    "    elif mark == \"H\":\n",
    "        tbl[1][num-1] = 0\n",
    "    elif mark ==\"C\":\n",
    "        tbl[2][num-1] = 0\n",
    "    elif mark == \"D\":\n",
    "        tbl[3][num-1] = 0\n",
    "    \n",
    "for i in range(4):\n",
    "    for j in range(13):\n",
    "        if tbl[i][j] != 0:\n",
    "            if i==0:\n",
    "                print(\"S \"+str(j+1))\n",
    "            elif i==1:\n",
    "                print(\"H \"+str(j+1))\n",
    "            elif i==2:\n",
    "                print(\"C \"+str(j+1))\n",
    "            else :\n",
    "                print(\"D \"+str(j+1))"
   ]
  },
  {
   "cell_type": "code",
   "execution_count": 10,
   "metadata": {},
   "outputs": [
    {
     "name": "stdout",
     "output_type": "stream",
     "text": [
      "2\n",
      "1 1 1 8\n",
      "1 1 1 -2\n",
      " 6 0 0 0 0 0 0 0 0 0\n",
      " 0 0 0 0 0 0 0 0 0 0\n",
      " 0 0 0 0 0 0 0 0 0 0\n",
      "####################\n",
      " 0 0 0 0 0 0 0 0 0 0\n",
      " 0 0 0 0 0 0 0 0 0 0\n",
      " 0 0 0 0 0 0 0 0 0 0\n",
      "####################\n",
      " 0 0 0 0 0 0 0 0 0 0\n",
      " 0 0 0 0 0 0 0 0 0 0\n",
      " 0 0 0 0 0 0 0 0 0 0\n",
      "####################\n",
      " 0 0 0 0 0 0 0 0 0 0\n",
      " 0 0 0 0 0 0 0 0 0 0\n",
      " 0 0 0 0 0 0 0 0 0 0\n"
     ]
    }
   ],
   "source": [
    "#6-C\n",
    "room = [[[0 for i in range(10)]for j in range(3)]for k in range(4)]\n",
    "n = int(input())\n",
    "\n",
    "for i in range(n):\n",
    "    b,f,r,v = map(int,input().split())\n",
    "    room[b-1][f-1][r-1] = room[b-1][f-1][r-1] + v\n",
    "        \n",
    "for k in range(4):\n",
    "    for j in range(3):\n",
    "        for i in range(10):\n",
    "            print(end = \" \")\n",
    "            print(room[k][j][i],end = \"\")\n",
    "        print()\n",
    "    if k < 3:print(\"####################\")\n",
    "    "
   ]
  },
  {
   "cell_type": "code",
   "execution_count": 28,
   "metadata": {},
   "outputs": [
    {
     "name": "stdout",
     "output_type": "stream",
     "text": [
      "3 4\n",
      "1 2 0 1\n",
      "0 3 0 1\n",
      "4 1 1 0\n",
      "1\n",
      "2\n",
      "3\n",
      "0\n",
      "-------\n",
      "5\n",
      "6\n",
      "9\n"
     ]
    }
   ],
   "source": [
    "#6-D\n",
    "n, m = map(int,input().split())\n",
    "A = [[0 for i in range(m)]for j in range(n)]\n",
    "b = [[0 for i in range(1)]for j in range(m)]\n",
    "c = [[0 for i in range(1)]for j in range(n)]\n",
    "\n",
    "for i in range(n):\n",
    "    A[i] = list(map(int,input().split()))\n",
    "    \n",
    "for i in range(m):\n",
    "    b[i][0] =int(input())\n",
    "    \n",
    "print(\"-------\")\n",
    "\n",
    "for i in range(n):\n",
    "    for j in range(m):\n",
    "        c[i][0]=c[i][0]+A[i][j]*b[j][0]\n",
    "    print(c[i][0])"
   ]
  },
  {
   "cell_type": "code",
   "execution_count": null,
   "metadata": {},
   "outputs": [],
   "source": []
  }
 ],
 "metadata": {
  "kernelspec": {
   "display_name": "Python 3",
   "language": "python",
   "name": "python3"
  },
  "language_info": {
   "codemirror_mode": {
    "name": "ipython",
    "version": 3
   },
   "file_extension": ".py",
   "mimetype": "text/x-python",
   "name": "python",
   "nbconvert_exporter": "python",
   "pygments_lexer": "ipython3",
   "version": "3.7.6"
  }
 },
 "nbformat": 4,
 "nbformat_minor": 4
}
