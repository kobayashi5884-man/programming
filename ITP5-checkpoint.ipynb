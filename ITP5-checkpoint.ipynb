{
 "cells": [
  {
   "cell_type": "code",
   "execution_count": 1,
   "metadata": {},
   "outputs": [
    {
     "name": "stdout",
     "output_type": "stream",
     "text": [
      "3 4\n",
      "####\n",
      "####\n",
      "####\n",
      "\n",
      "5 4\n",
      "####\n",
      "####\n",
      "####\n",
      "####\n",
      "####\n",
      "\n",
      "2 2\n",
      "##\n",
      "##\n",
      "\n",
      "0 0\n"
     ]
    }
   ],
   "source": [
    "#5-A\n",
    "while True:\n",
    "    H,W=map(int,input().split())\n",
    "    if W==0 and H==0:\n",
    "        break\n",
    "    else:\n",
    "        for j in range(H):\n",
    "            for i in range(W):\n",
    "                print(\"#\",end=\"\")\n",
    "            print()\n",
    "        print()\n",
    "        \n",
    "        "
   ]
  },
  {
   "cell_type": "code",
   "execution_count": 2,
   "metadata": {},
   "outputs": [
    {
     "name": "stdout",
     "output_type": "stream",
     "text": [
      "3 4\n",
      "####\n",
      "#..#\n",
      "####\n",
      "\n",
      "5 6\n",
      "######\n",
      "#....#\n",
      "#....#\n",
      "#....#\n",
      "######\n",
      "\n",
      "0 0\n"
     ]
    }
   ],
   "source": [
    "#5-B\n",
    "i=0\n",
    "j=0\n",
    "while True:\n",
    "    H,W=map(int,input().split())\n",
    "    if W==0 and H==0:\n",
    "        break\n",
    "    else:\n",
    "        for j in range(H):\n",
    "            for i in range(W):\n",
    "                if j==0 or j==H-1:\n",
    "                    print(\"#\",end=\"\")\n",
    "                elif i==0 or i==W-1:\n",
    "                    print(\"#\",end=\"\")\n",
    "                else :\n",
    "                    print(\".\",end=\"\")\n",
    "            print()\n",
    "        print()\n"
   ]
  },
  {
   "cell_type": "code",
   "execution_count": 3,
   "metadata": {},
   "outputs": [
    {
     "name": "stdout",
     "output_type": "stream",
     "text": [
      "3 4\n",
      "#.#.\n",
      ".#.#\n",
      "#.#.\n",
      "\n",
      "5 6\n",
      "#.#.#.\n",
      ".#.#.#\n",
      "#.#.#.\n",
      ".#.#.#\n",
      "#.#.#.\n",
      "\n",
      "1 2\n",
      "#.\n",
      "\n",
      "0 0\n"
     ]
    }
   ],
   "source": [
    "#5-C\n",
    "i=0\n",
    "j=0\n",
    "\n",
    "while True:\n",
    "    H,W=map(int,input().split())\n",
    "    if W==0 and H==0:\n",
    "        break\n",
    "    else:\n",
    "        for j in range(H):\n",
    "            for i in range(W):\n",
    "                if (i+j)%2==0:\n",
    "                    print(\"#\",end=\"\")\n",
    "                else :\n",
    "                    print(\".\",end=\"\")\n",
    "            print()\n",
    "        print()\n",
    "\n",
    "    "
   ]
  },
  {
   "cell_type": "code",
   "execution_count": 4,
   "metadata": {},
   "outputs": [
    {
     "name": "stdout",
     "output_type": "stream",
     "text": [
      "35\n",
      " 3 6 9 12 13 15 18 21 23 24 27 30 31 32 33 34 35"
     ]
    }
   ],
   "source": [
    "#5-D\n",
    "n=int(input())\n",
    "\n",
    "for i in range(3,n+1):\n",
    "    x=i\n",
    "    if x%3==0:\n",
    "        print(\" \"+str(i),end=\"\")\n",
    "    elif x%10==3:\n",
    "        print(\" \"+str(i),end=\"\")\n",
    "    else:\n",
    "        while True:\n",
    "            if x%10==3:\n",
    "                print(\" \"+str(i),end=\"\")\n",
    "                break\n",
    "            else:\n",
    "                x=int(x/10)\n",
    "                if x==0:\n",
    "                    break\n",
    "                    \n",
    "            "
   ]
  },
  {
   "cell_type": "code",
   "execution_count": null,
   "metadata": {},
   "outputs": [],
   "source": []
  }
 ],
 "metadata": {
  "kernelspec": {
   "display_name": "Python 3",
   "language": "python",
   "name": "python3"
  },
  "language_info": {
   "codemirror_mode": {
    "name": "ipython",
    "version": 3
   },
   "file_extension": ".py",
   "mimetype": "text/x-python",
   "name": "python",
   "nbconvert_exporter": "python",
   "pygments_lexer": "ipython3",
   "version": "3.7.6"
  }
 },
 "nbformat": 4,
 "nbformat_minor": 4
}
