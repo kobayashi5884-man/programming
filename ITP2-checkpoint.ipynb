{
 "cells": [
  {
   "cell_type": "code",
   "execution_count": 1,
   "metadata": {},
   "outputs": [
    {
     "name": "stdout",
     "output_type": "stream",
     "text": [
      "2 3\n",
      "a < b\n"
     ]
    }
   ],
   "source": [
    "#2-A\n",
    "a,b=map(int,input().split())\n",
    "if a>b:\n",
    "    print('a > b')\n",
    "elif a<b:\n",
    "    print('a < b')\n",
    "elif a==b:\n",
    "    print('a == b')"
   ]
  },
  {
   "cell_type": "code",
   "execution_count": 2,
   "metadata": {},
   "outputs": [
    {
     "name": "stdout",
     "output_type": "stream",
     "text": [
      "1 3 8\n",
      "Yes\n"
     ]
    }
   ],
   "source": [
    "#2-B\n",
    "a,b,c=map(int,input().split())\n",
    "if a<b<c:\n",
    "    print('Yes')\n",
    "else:\n",
    "    print('No')"
   ]
  },
  {
   "cell_type": "code",
   "execution_count": 3,
   "metadata": {},
   "outputs": [
    {
     "name": "stdout",
     "output_type": "stream",
     "text": [
      "5 2 2\n",
      "2 2 5\n"
     ]
    }
   ],
   "source": [
    "#2-C\n",
    "a,b,c=map(int,input().split())\n",
    "while True:\n",
    "    if a > b:\n",
    "        a,b = b,a\n",
    "    elif b > c:\n",
    "        b,c = c,b\n",
    "    elif a > c:\n",
    "        a,c = c,a\n",
    "    if a <= b <= c:\n",
    "        break\n",
    "print(a,b,c)"
   ]
  },
  {
   "cell_type": "code",
   "execution_count": 4,
   "metadata": {},
   "outputs": [
    {
     "name": "stdout",
     "output_type": "stream",
     "text": [
      "5 4 2 2 1\n",
      "Yes\n"
     ]
    }
   ],
   "source": [
    "#2-D\n",
    "W,H,x,y,r=map(int,input().split())\n",
    "if x-r<0 or x+r>W:\n",
    "    print('No')\n",
    "elif y-r<0 or y+r>H:\n",
    "    print('No')\n",
    "else:\n",
    "    print('Yes')"
   ]
  },
  {
   "cell_type": "code",
   "execution_count": null,
   "metadata": {},
   "outputs": [],
   "source": []
  }
 ],
 "metadata": {
  "kernelspec": {
   "display_name": "Python 3",
   "language": "python",
   "name": "python3"
  },
  "language_info": {
   "codemirror_mode": {
    "name": "ipython",
    "version": 3
   },
   "file_extension": ".py",
   "mimetype": "text/x-python",
   "name": "python",
   "nbconvert_exporter": "python",
   "pygments_lexer": "ipython3",
   "version": "3.7.6"
  }
 },
 "nbformat": 4,
 "nbformat_minor": 4
}
