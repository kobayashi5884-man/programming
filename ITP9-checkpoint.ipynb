{
 "cells": [
  {
   "cell_type": "code",
   "execution_count": 1,
   "metadata": {},
   "outputs": [
    {
     "name": "stdout",
     "output_type": "stream",
     "text": [
      "computer\n",
      "Nurtures computer scientists and highly-skilled computer engineers who will create and exploit \"knowledge\" for the new era. Provides an outstanding computer environment.\n",
      "END_OF_TEXT\n",
      "3\n"
     ]
    }
   ],
   "source": [
    "#9-A\n",
    "\n",
    "W = input()\n",
    "count=0\n",
    "while True:\n",
    "    T = list(input().split())\n",
    "    if T == [\"END_OF_TEXT\"]:\n",
    "        print(count)\n",
    "        break\n",
    "    \n",
    "    else:\n",
    "        for i in range(len(T)):\n",
    "            if T[i].lower()==W:\n",
    "                count = count+1\n"
   ]
  },
  {
   "cell_type": "code",
   "execution_count": 2,
   "metadata": {},
   "outputs": [
    {
     "name": "stdout",
     "output_type": "stream",
     "text": [
      "aabc\n",
      "1\n",
      "1\n",
      "abca\n",
      "-\n"
     ]
    }
   ],
   "source": [
    "#9-B\n",
    "import random\n",
    "\n",
    "while True:\n",
    "    n = list(input())\n",
    "    \n",
    "    if n == [\"-\"]:\n",
    "        break\n",
    "    else :\n",
    "        m = int(input())\n",
    "        for i in range(m):\n",
    "            h = int(input())\n",
    "            a = []\n",
    "            for j in range(h):\n",
    "                a.append(n.pop(0))      \n",
    "            n.extend(a)\n",
    "            \n",
    "        for i in range(len(n)):\n",
    "            print(n[i],end=\"\")\n",
    "            \n",
    "        print()"
   ]
  },
  {
   "cell_type": "code",
   "execution_count": 4,
   "metadata": {},
   "outputs": [
    {
     "name": "stdout",
     "output_type": "stream",
     "text": [
      "3\n",
      "cat dog\n",
      "fish fish\n",
      "lion tiger\n",
      "1 7\n"
     ]
    }
   ],
   "source": [
    "#9-C\n",
    "\n",
    "n = int(input())\n",
    "taro_pt = 0\n",
    "hanako_pt = 0\n",
    "\n",
    "for i in range(n):\n",
    "    taro, hanako = input().split()\n",
    "    if taro > hanako:\n",
    "        taro_pt = taro_pt + 3\n",
    "    elif taro == hanako:\n",
    "        taro_pt = taro_pt + 1\n",
    "        hanako_pt = hanako_pt + 1\n",
    "    else:\n",
    "        hanako_pt = hanako_pt + 3\n",
    "        \n",
    "print(str(taro_pt) + \" \" + str(hanako_pt))"
   ]
  },
  {
   "cell_type": "code",
   "execution_count": 5,
   "metadata": {},
   "outputs": [
    {
     "name": "stdout",
     "output_type": "stream",
     "text": [
      "abcde\n",
      "3\n",
      "replace 1 3 xyz\n",
      "reverse 0 2\n",
      "print 1 4\n",
      "xaze\n"
     ]
    }
   ],
   "source": [
    "#9-D\n",
    "\n",
    "string = list(input())\n",
    "n = int(input())\n",
    "\n",
    "for i in range(n):\n",
    "    cmd = list(input().split())\n",
    "    a = int(cmd[1])\n",
    "    b = int(cmd[2])+1\n",
    "    if cmd[0]==\"print\":\n",
    "        for i in string[a:b]:\n",
    "            print(i,end=\"\")\n",
    "        print()\n",
    "    elif cmd[0] == \"reverse\":\n",
    "        rev1 = string[a:b]\n",
    "        rev = rev1[::-1]\n",
    "        string = string[:a] + rev + string[b:]\n",
    "    elif cmd[0] == \"replace\":\n",
    "        replacelist = list(cmd[3])\n",
    "        for i in replacelist:\n",
    "            string[a] = i\n",
    "            a = a + 1"
   ]
  },
  {
   "cell_type": "code",
   "execution_count": null,
   "metadata": {},
   "outputs": [],
   "source": []
  }
 ],
 "metadata": {
  "kernelspec": {
   "display_name": "Python 3",
   "language": "python",
   "name": "python3"
  },
  "language_info": {
   "codemirror_mode": {
    "name": "ipython",
    "version": 3
   },
   "file_extension": ".py",
   "mimetype": "text/x-python",
   "name": "python",
   "nbconvert_exporter": "python",
   "pygments_lexer": "ipython3",
   "version": "3.7.6"
  }
 },
 "nbformat": 4,
 "nbformat_minor": 4
}
